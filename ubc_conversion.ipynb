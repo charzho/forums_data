{
 "cells": [
  {
   "cell_type": "code",
   "execution_count": 4,
   "metadata": {},
   "outputs": [],
   "source": [
    "from os import listdir\n",
    "import json\n",
    "\n",
    "topic_paths = [\".\\\\ubc_job09-19\\\\threads\", \".\\\\ubc_job09-29\\\\threads\"]\n",
    "\n",
    "filepaths = []\n",
    "\n",
    "for path in topic_paths:\n",
    "    filepaths.append(listdir(path))\n",
    "        "
   ]
  },
  {
   "cell_type": "code",
   "execution_count": 6,
   "metadata": {},
   "outputs": [],
   "source": [
    "#concatenate data from split files into one\n",
    "#for file_path, topic_path in zip(filepaths, topic_paths):\n",
    "    #for file in file_path:\n",
    "        #with open(\".\\\\ubc_threads_combined.json\", \"a\") as output:\n",
    "            #with open(topic_path + \"\\\\\" + file, \"r\") as f:\n",
    "                #output.write(f.read() + \"\\n\")\n",
    "                \n",
    "#ADD THREAD ID (last digits of filename) TO JSON\n",
    "\n",
    "for file_path, topic_path in zip(filepaths, topic_paths):\n",
    "    for file in file_path:\n",
    "        with open(\".\\\\ubc_threads_combined.json\", \"a\",encoding=\"utf-8\") as output:\n",
    "            with open(topic_path + \"\\\\\" + file, \"r\") as f:\n",
    "                json_array = json.loads(f.read())\n",
    "                for post in json_array:\n",
    "                    post['thread_id'] = [file.split('.')[-2]]\n",
    "                    print(json.dumps(post), end = '\\n', file = output)"
   ]
  },
  {
   "cell_type": "code",
   "execution_count": null,
   "metadata": {},
   "outputs": [],
   "source": []
  }
 ],
 "metadata": {
  "kernelspec": {
   "display_name": "Python 3",
   "language": "python",
   "name": "python3"
  },
  "language_info": {
   "codemirror_mode": {
    "name": "ipython",
    "version": 3
   },
   "file_extension": ".py",
   "mimetype": "text/x-python",
   "name": "python",
   "nbconvert_exporter": "python",
   "pygments_lexer": "ipython3",
   "version": "3.8.5"
  }
 },
 "nbformat": 4,
 "nbformat_minor": 4
}
