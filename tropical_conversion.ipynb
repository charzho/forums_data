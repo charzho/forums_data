{
 "cells": [
  {
   "cell_type": "code",
   "execution_count": 1,
   "metadata": {},
   "outputs": [],
   "source": [
    "from os import listdir\n",
    "\n",
    "#I moved all the topics into a file for each session beforehand\n",
    "#this is the largest session \n",
    "\n",
    "topic_path = \".\\\\topic\"\n",
    "\n",
    "filepaths = listdir(topic_path)"
   ]
  },
  {
   "cell_type": "code",
   "execution_count": 2,
   "metadata": {},
   "outputs": [],
   "source": [
    "#concatenate data from split files into one\n",
    "\n",
    "for file in filepaths:\n",
    "    with open(\".\\\\topics_combined.json\", \"a\") as output:\n",
    "        with open(topic_path + \"\\\\\" + file, \"r\") as f:\n",
    "            output.write(f.read() + \"\\n\")"
   ]
  },
  {
   "cell_type": "code",
   "execution_count": 3,
   "metadata": {},
   "outputs": [],
   "source": [
    "import json\n",
    "\n",
    "#each line in the first combined file is an array of json objects\n",
    "#this splits each object into their own line\n",
    "\n",
    "with open(\".\\\\topics_combined.json\", \"r\") as combined_input:\n",
    "    with open('.\\\\topics_combined_processed.json','a',encoding=\"utf-8\") as output_json:\n",
    "        for line in combined_input.readlines():\n",
    "            json_array = json.loads(line)\n",
    "            for post in json_array:\n",
    "                print(json.dumps(post), end = '\\n', file = output_json)"
   ]
  },
  {
   "cell_type": "code",
   "execution_count": null,
   "metadata": {},
   "outputs": [],
   "source": []
  }
 ],
 "metadata": {
  "kernelspec": {
   "display_name": "Python 3",
   "language": "python",
   "name": "python3"
  },
  "language_info": {
   "codemirror_mode": {
    "name": "ipython",
    "version": 3
   },
   "file_extension": ".py",
   "mimetype": "text/x-python",
   "name": "python",
   "nbconvert_exporter": "python",
   "pygments_lexer": "ipython3",
   "version": "3.8.3"
  }
 },
 "nbformat": 4,
 "nbformat_minor": 4
}
