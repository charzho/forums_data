{
 "cells": [
  {
   "cell_type": "code",
   "execution_count": 1,
   "metadata": {},
   "outputs": [],
   "source": [
    "#from elasticsearch import Elasticsearch\n",
    "#from elasticsearch import helpers\n",
    "import pandas as pd\n",
    "import numpy as np"
   ]
  },
  {
   "cell_type": "code",
   "execution_count": 2,
   "metadata": {},
   "outputs": [],
   "source": [
    "u_df = pd.read_json(\".\\\\ubc_threads_combined.json\", \n",
    "                    lines=True,convert_dates=False)#, nrows=100)\n",
    "dfs = [u_df]"
   ]
  },
  {
   "cell_type": "code",
   "execution_count": 4,
   "metadata": {},
   "outputs": [],
   "source": [
    "for column in ['username','dateTime','postID','mainText','thread_id']:\n",
    "    for df in dfs:\n",
    "        df[column] = df[column].str[0]"
   ]
  },
  {
   "cell_type": "code",
   "execution_count": 6,
   "metadata": {},
   "outputs": [],
   "source": [
    "u_df['dateTime_raw'] = pd.to_datetime(u_df['dateTime'],format='%b %d, %Y at %I:%M %p')"
   ]
  },
  {
   "cell_type": "code",
   "execution_count": 7,
   "metadata": {},
   "outputs": [],
   "source": [
    "for df in dfs:\n",
    "    df.drop(['timestamp','dateTime'],axis='columns',inplace=True)"
   ]
  },
  {
   "cell_type": "code",
   "execution_count": 9,
   "metadata": {},
   "outputs": [],
   "source": [
    "u_df.drop(['mainTextLinks','quoteLink'],axis='columns',inplace=True)"
   ]
  },
  {
   "cell_type": "code",
   "execution_count": 10,
   "metadata": {},
   "outputs": [
    {
     "data": {
      "text/html": [
       "<div>\n",
       "<style scoped>\n",
       "    .dataframe tbody tr th:only-of-type {\n",
       "        vertical-align: middle;\n",
       "    }\n",
       "\n",
       "    .dataframe tbody tr th {\n",
       "        vertical-align: top;\n",
       "    }\n",
       "\n",
       "    .dataframe thead th {\n",
       "        text-align: right;\n",
       "    }\n",
       "</style>\n",
       "<table border=\"1\" class=\"dataframe\">\n",
       "  <thead>\n",
       "    <tr style=\"text-align: right;\">\n",
       "      <th></th>\n",
       "      <th>username</th>\n",
       "      <th>mainText</th>\n",
       "      <th>postID</th>\n",
       "      <th>thread_id</th>\n",
       "      <th>dateTime_raw</th>\n",
       "    </tr>\n",
       "  </thead>\n",
       "  <tbody>\n",
       "    <tr>\n",
       "      <th>0</th>\n",
       "      <td>lorax</td>\n",
       "      <td>In celebration of my 1,000th post, here is a s...</td>\n",
       "      <td>138481</td>\n",
       "      <td>38358</td>\n",
       "      <td>2008-04-27 15:52:00</td>\n",
       "    </tr>\n",
       "    <tr>\n",
       "      <th>1</th>\n",
       "      <td>natureman</td>\n",
       "      <td>Hmmm, the fruit looks like a Durian, but the l...</td>\n",
       "      <td>138484</td>\n",
       "      <td>38358</td>\n",
       "      <td>2008-04-27 15:57:00</td>\n",
       "    </tr>\n",
       "    <tr>\n",
       "      <th>2</th>\n",
       "      <td>pierrot</td>\n",
       "      <td>breadfruit? Artocarpus altilis</td>\n",
       "      <td>138489</td>\n",
       "      <td>38358</td>\n",
       "      <td>2008-04-27 16:26:00</td>\n",
       "    </tr>\n",
       "    <tr>\n",
       "      <th>3</th>\n",
       "      <td>lorax</td>\n",
       "      <td>Pierrot gets it, although not the reason I gro...</td>\n",
       "      <td>138493</td>\n",
       "      <td>38358</td>\n",
       "      <td>2008-04-27 16:37:00</td>\n",
       "    </tr>\n",
       "    <tr>\n",
       "      <th>4</th>\n",
       "      <td>natureman</td>\n",
       "      <td>Do ya eat it?</td>\n",
       "      <td>138495</td>\n",
       "      <td>38358</td>\n",
       "      <td>2008-04-27 16:40:00</td>\n",
       "    </tr>\n",
       "    <tr>\n",
       "      <th>...</th>\n",
       "      <td>...</td>\n",
       "      <td>...</td>\n",
       "      <td>...</td>\n",
       "      <td>...</td>\n",
       "      <td>...</td>\n",
       "    </tr>\n",
       "    <tr>\n",
       "      <th>310365</th>\n",
       "      <td>markinwestmich</td>\n",
       "      <td>Well, it does look etoliated, good observation...</td>\n",
       "      <td>110246</td>\n",
       "      <td>32271</td>\n",
       "      <td>2007-10-07 15:11:00</td>\n",
       "    </tr>\n",
       "    <tr>\n",
       "      <th>310366</th>\n",
       "      <td>Greyspruce</td>\n",
       "      <td>They can take -23.c /-4.f and have protection ...</td>\n",
       "      <td>111116</td>\n",
       "      <td>32271</td>\n",
       "      <td>2007-10-14 02:07:00</td>\n",
       "    </tr>\n",
       "    <tr>\n",
       "      <th>310367</th>\n",
       "      <td>Ron B</td>\n",
       "      <td>In Michigan it might be subjected to -40F. Not...</td>\n",
       "      <td>111126</td>\n",
       "      <td>32271</td>\n",
       "      <td>2007-10-14 07:40:00</td>\n",
       "    </tr>\n",
       "    <tr>\n",
       "      <th>310368</th>\n",
       "      <td>bamboofish</td>\n",
       "      <td>It should be OK, they've been growing them in ...</td>\n",
       "      <td>186500</td>\n",
       "      <td>32271</td>\n",
       "      <td>2009-02-25 18:49:00</td>\n",
       "    </tr>\n",
       "    <tr>\n",
       "      <th>310369</th>\n",
       "      <td>SuburbanNinja8000</td>\n",
       "      <td>That is one Strange looking tree. But Cool to ...</td>\n",
       "      <td>268310</td>\n",
       "      <td>32271</td>\n",
       "      <td>2011-01-24 18:58:00</td>\n",
       "    </tr>\n",
       "  </tbody>\n",
       "</table>\n",
       "<p>310370 rows × 5 columns</p>\n",
       "</div>"
      ],
      "text/plain": [
       "                 username                                           mainText  \\\n",
       "0                   lorax  In celebration of my 1,000th post, here is a s...   \n",
       "1               natureman  Hmmm, the fruit looks like a Durian, but the l...   \n",
       "2                 pierrot                     breadfruit? Artocarpus altilis   \n",
       "3                   lorax  Pierrot gets it, although not the reason I gro...   \n",
       "4               natureman                                      Do ya eat it?   \n",
       "...                   ...                                                ...   \n",
       "310365     markinwestmich  Well, it does look etoliated, good observation...   \n",
       "310366         Greyspruce  They can take -23.c /-4.f and have protection ...   \n",
       "310367              Ron B  In Michigan it might be subjected to -40F. Not...   \n",
       "310368         bamboofish  It should be OK, they've been growing them in ...   \n",
       "310369  SuburbanNinja8000  That is one Strange looking tree. But Cool to ...   \n",
       "\n",
       "        postID thread_id        dateTime_raw  \n",
       "0       138481     38358 2008-04-27 15:52:00  \n",
       "1       138484     38358 2008-04-27 15:57:00  \n",
       "2       138489     38358 2008-04-27 16:26:00  \n",
       "3       138493     38358 2008-04-27 16:37:00  \n",
       "4       138495     38358 2008-04-27 16:40:00  \n",
       "...        ...       ...                 ...  \n",
       "310365  110246     32271 2007-10-07 15:11:00  \n",
       "310366  111116     32271 2007-10-14 02:07:00  \n",
       "310367  111126     32271 2007-10-14 07:40:00  \n",
       "310368  186500     32271 2009-02-25 18:49:00  \n",
       "310369  268310     32271 2011-01-24 18:58:00  \n",
       "\n",
       "[310370 rows x 5 columns]"
      ]
     },
     "execution_count": 10,
     "metadata": {},
     "output_type": "execute_result"
    }
   ],
   "source": [
    "u_df"
   ]
  },
  {
   "cell_type": "code",
   "execution_count": 11,
   "metadata": {},
   "outputs": [],
   "source": [
    "u_df['mainText'].fillna('',inplace=True)\n",
    "u_df['username'].fillna('',inplace=True)\n",
    "u_df.dropna(subset=['dateTime_raw'],inplace=True)"
   ]
  },
  {
   "cell_type": "code",
   "execution_count": 12,
   "metadata": {},
   "outputs": [],
   "source": [
    "u_df.to_csv('ubc_no_null.csv')"
   ]
  },
  {
   "cell_type": "code",
   "execution_count": null,
   "metadata": {},
   "outputs": [],
   "source": []
  }
 ],
 "metadata": {
  "kernelspec": {
   "display_name": "Python 3",
   "language": "python",
   "name": "python3"
  },
  "language_info": {
   "codemirror_mode": {
    "name": "ipython",
    "version": 3
   },
   "file_extension": ".py",
   "mimetype": "text/x-python",
   "name": "python",
   "nbconvert_exporter": "python",
   "pygments_lexer": "ipython3",
   "version": "3.8.5"
  }
 },
 "nbformat": 4,
 "nbformat_minor": 4
}
